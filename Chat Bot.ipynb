{
 "cells": [
  {
   "cell_type": "code",
   "execution_count": 2,
   "id": "5f5d8a58",
   "metadata": {},
   "outputs": [],
   "source": [
    "from tkinter import *\n",
    "root = Tk()\n",
    "root.title(\"Chatbot\")\n",
    "def send():\n",
    "    send = \"You: \"+e.get()\n",
    "    t.insert(END, \"\\n\"+send)\n",
    "    user = e.get().lower()\n",
    "    if(user == \"hello\"):\n",
    "        t.insert(END, \"\\n\" + \"Bot: Hi\")\n",
    "    elif(user == \"hi\" or user == \"hii\" or user == \"hiiii\"):\n",
    "        t.insert(END, \"\\n\" + \"Bot: Hello\")\n",
    "    elif(e.get() == \"how are you\"):\n",
    "        t.insert(END, \"\\n\" + \"Bot: Fine! and you\")\n",
    "    elif(user == \"fine\" or user == \"iam good\" or user == \"iam doing good\"):\n",
    "        t.insert(END, \"\\n\" + \"Bot: Great! How can I help you.\")\n",
    "    elif(user == \"bye\" or user == \"byee\" or user==\"see you\"):\n",
    "        t.insert(END, \"\\n\" + \"Bot: See you soon..Have a nice day :)\")\n",
    "    else:\n",
    "        t.insert(END, \"\\n\" + \"Bot: Sorry! I didn't got you\")\n",
    "    e.delete(0, END)\n",
    "t = Text(root)\n",
    "t.grid(row=0, column=0, columnspan=2)\n",
    "e = Entry(root, width=100)\n",
    "e.grid(row=1, column=0)\n",
    "send = Button(root, text=\"Send\", command=send,border=5,fg=\"blue\").grid(row=1, column=1)\n",
    "root.mainloop()"
   ]
  },
  {
   "cell_type": "code",
   "execution_count": null,
   "id": "3bc02836",
   "metadata": {},
   "outputs": [],
   "source": []
  },
  {
   "cell_type": "code",
   "execution_count": null,
   "id": "715efe7f",
   "metadata": {},
   "outputs": [],
   "source": []
  }
 ],
 "metadata": {
  "kernelspec": {
   "display_name": "Python 3",
   "language": "python",
   "name": "python3"
  },
  "language_info": {
   "codemirror_mode": {
    "name": "ipython",
    "version": 3
   },
   "file_extension": ".py",
   "mimetype": "text/x-python",
   "name": "python",
   "nbconvert_exporter": "python",
   "pygments_lexer": "ipython3",
   "version": "3.8.8"
  }
 },
 "nbformat": 4,
 "nbformat_minor": 5
}
