{
 "cells": [
  {
   "cell_type": "code",
   "execution_count": 1,
   "id": "5cd3b0c9",
   "metadata": {},
   "outputs": [
    {
     "name": "stdout",
     "output_type": "stream",
     "text": [
      "\n",
      "\n",
      "***ROCK-PAPER-SCISSORS***\n",
      "\n",
      "--LETS START:)--\n",
      "\n",
      "Enter your choice(rock,paper or scissors):scissors\n",
      "Your Choice: scissors\n",
      "Computer choice: rock\n",
      "\n",
      "Rock smashes scissors! \n",
      "You lose.\n",
      "\n",
      "Do you want to play again(yes/no):yes\n",
      "\n",
      "\n",
      "***ROCK-PAPER-SCISSORS***\n",
      "\n",
      "--LETS START:)--\n",
      "\n",
      "Enter your choice(rock,paper or scissors):rock\n",
      "Your Choice: rock\n",
      "Computer choice: paper\n",
      "\n",
      "Paper covers rock! \n",
      "You lose.\n",
      "\n",
      "Do you want to play again(yes/no):no\n",
      "\n",
      "THANK YOU..!\n"
     ]
    }
   ],
   "source": [
    "import random\n",
    "\n",
    "def rps(ch,comp_ch):\n",
    "    if ch == comp_ch:\n",
    "        print(\"\\nIt's a tie.. :)\")\n",
    "    elif ch == \"rock\":\n",
    "        if comp_ch == \"scissors\":\n",
    "            print(\"\\nRock smashes scissors! \\nYou win !\")\n",
    "        else:\n",
    "            print(\"\\nPaper covers rock! \\nYou lose.\")\n",
    "    elif ch == \"paper\":\n",
    "        if comp_ch == \"rock\":\n",
    "            print(\"\\nPaper covers rock! \\nYou win!\")\n",
    "        else:\n",
    "            print(\"\\nScissors cuts paper! \\nYou lose.\")\n",
    "    elif ch == \"scissors\":\n",
    "        if comp_ch == \"paper\":\n",
    "            print(\"\\nScissors cuts paper! \\nYou win!\")\n",
    "        else:\n",
    "            print(\"\\nRock smashes scissors! \\nYou lose.\")\n",
    "            \n",
    "\n",
    "while True:\n",
    "    print(\"\\n\\n***ROCK-PAPER-SCISSORS***\")\n",
    "    print(\"\\n--LETS START:)--\")\n",
    "    ch=input(\"\\nEnter your choice(rock,paper or scissors):\")\n",
    "    l=['rock','paper','scissors']\n",
    "    comp_ch=random.choice(l)\n",
    "    print(\"Your Choice:\",ch)\n",
    "    print(\"Computer choice:\",comp_ch)\n",
    "    rps(ch,comp_ch)\n",
    "    x=input(\"\\nDo you want to play again(yes/no):\")\n",
    "    if x=='no':\n",
    "        print(\"\\nTHANK YOU..!\")\n",
    "        break"
   ]
  },
  {
   "cell_type": "code",
   "execution_count": null,
   "id": "95b50754",
   "metadata": {},
   "outputs": [],
   "source": []
  },
  {
   "cell_type": "code",
   "execution_count": null,
   "id": "031460bb",
   "metadata": {},
   "outputs": [],
   "source": []
  }
 ],
 "metadata": {
  "kernelspec": {
   "display_name": "Python 3",
   "language": "python",
   "name": "python3"
  },
  "language_info": {
   "codemirror_mode": {
    "name": "ipython",
    "version": 3
   },
   "file_extension": ".py",
   "mimetype": "text/x-python",
   "name": "python",
   "nbconvert_exporter": "python",
   "pygments_lexer": "ipython3",
   "version": "3.8.8"
  }
 },
 "nbformat": 4,
 "nbformat_minor": 5
}
